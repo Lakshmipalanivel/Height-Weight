{
 "cells": [
  {
   "cell_type": "code",
   "execution_count": 56,
   "id": "477db47a",
   "metadata": {},
   "outputs": [],
   "source": [
    "import pandas as pd\n",
    "import matplotlib.pyplot as plt\n",
    "import seaborn as sns\n",
    "from scipy.stats import pearsonr\n",
    "hw = pd.read_csv(\"file:///C:/Users/WIN%2010/Documents/weight-height(EDA).csv\")"
   ]
  },
  {
   "cell_type": "code",
   "execution_count": 25,
   "id": "fb3169ea",
   "metadata": {},
   "outputs": [
    {
     "data": {
      "text/html": [
       "<div>\n",
       "<style scoped>\n",
       "    .dataframe tbody tr th:only-of-type {\n",
       "        vertical-align: middle;\n",
       "    }\n",
       "\n",
       "    .dataframe tbody tr th {\n",
       "        vertical-align: top;\n",
       "    }\n",
       "\n",
       "    .dataframe thead th {\n",
       "        text-align: right;\n",
       "    }\n",
       "</style>\n",
       "<table border=\"1\" class=\"dataframe\">\n",
       "  <thead>\n",
       "    <tr style=\"text-align: right;\">\n",
       "      <th></th>\n",
       "      <th>Gender</th>\n",
       "      <th>Height</th>\n",
       "      <th>Weight</th>\n",
       "    </tr>\n",
       "  </thead>\n",
       "  <tbody>\n",
       "    <tr>\n",
       "      <th>0</th>\n",
       "      <td>Male</td>\n",
       "      <td>73.847017</td>\n",
       "      <td>241.893563</td>\n",
       "    </tr>\n",
       "    <tr>\n",
       "      <th>1</th>\n",
       "      <td>Male</td>\n",
       "      <td>68.781904</td>\n",
       "      <td>162.310473</td>\n",
       "    </tr>\n",
       "    <tr>\n",
       "      <th>2</th>\n",
       "      <td>Male</td>\n",
       "      <td>74.110105</td>\n",
       "      <td>212.740856</td>\n",
       "    </tr>\n",
       "    <tr>\n",
       "      <th>3</th>\n",
       "      <td>Male</td>\n",
       "      <td>71.730978</td>\n",
       "      <td>220.042470</td>\n",
       "    </tr>\n",
       "    <tr>\n",
       "      <th>4</th>\n",
       "      <td>Male</td>\n",
       "      <td>69.881796</td>\n",
       "      <td>206.349801</td>\n",
       "    </tr>\n",
       "    <tr>\n",
       "      <th>5</th>\n",
       "      <td>Male</td>\n",
       "      <td>67.253016</td>\n",
       "      <td>152.212156</td>\n",
       "    </tr>\n",
       "    <tr>\n",
       "      <th>6</th>\n",
       "      <td>Male</td>\n",
       "      <td>68.785081</td>\n",
       "      <td>183.927889</td>\n",
       "    </tr>\n",
       "    <tr>\n",
       "      <th>7</th>\n",
       "      <td>Male</td>\n",
       "      <td>68.348516</td>\n",
       "      <td>167.971111</td>\n",
       "    </tr>\n",
       "    <tr>\n",
       "      <th>8</th>\n",
       "      <td>Male</td>\n",
       "      <td>67.018950</td>\n",
       "      <td>175.929440</td>\n",
       "    </tr>\n",
       "    <tr>\n",
       "      <th>9</th>\n",
       "      <td>Male</td>\n",
       "      <td>63.456494</td>\n",
       "      <td>156.399676</td>\n",
       "    </tr>\n",
       "    <tr>\n",
       "      <th>10</th>\n",
       "      <td>Male</td>\n",
       "      <td>71.195382</td>\n",
       "      <td>186.604926</td>\n",
       "    </tr>\n",
       "    <tr>\n",
       "      <th>11</th>\n",
       "      <td>Male</td>\n",
       "      <td>71.640805</td>\n",
       "      <td>213.741170</td>\n",
       "    </tr>\n",
       "    <tr>\n",
       "      <th>12</th>\n",
       "      <td>Male</td>\n",
       "      <td>64.766329</td>\n",
       "      <td>167.127461</td>\n",
       "    </tr>\n",
       "    <tr>\n",
       "      <th>13</th>\n",
       "      <td>Male</td>\n",
       "      <td>69.283070</td>\n",
       "      <td>189.446181</td>\n",
       "    </tr>\n",
       "    <tr>\n",
       "      <th>14</th>\n",
       "      <td>Male</td>\n",
       "      <td>69.243732</td>\n",
       "      <td>186.434168</td>\n",
       "    </tr>\n",
       "    <tr>\n",
       "      <th>15</th>\n",
       "      <td>Male</td>\n",
       "      <td>67.645620</td>\n",
       "      <td>172.186930</td>\n",
       "    </tr>\n",
       "    <tr>\n",
       "      <th>16</th>\n",
       "      <td>Male</td>\n",
       "      <td>72.418317</td>\n",
       "      <td>196.028506</td>\n",
       "    </tr>\n",
       "    <tr>\n",
       "      <th>17</th>\n",
       "      <td>Male</td>\n",
       "      <td>63.974326</td>\n",
       "      <td>172.883470</td>\n",
       "    </tr>\n",
       "    <tr>\n",
       "      <th>18</th>\n",
       "      <td>Male</td>\n",
       "      <td>69.640060</td>\n",
       "      <td>185.983958</td>\n",
       "    </tr>\n",
       "    <tr>\n",
       "      <th>19</th>\n",
       "      <td>Male</td>\n",
       "      <td>67.936005</td>\n",
       "      <td>182.426648</td>\n",
       "    </tr>\n",
       "  </tbody>\n",
       "</table>\n",
       "</div>"
      ],
      "text/plain": [
       "   Gender     Height      Weight\n",
       "0    Male  73.847017  241.893563\n",
       "1    Male  68.781904  162.310473\n",
       "2    Male  74.110105  212.740856\n",
       "3    Male  71.730978  220.042470\n",
       "4    Male  69.881796  206.349801\n",
       "5    Male  67.253016  152.212156\n",
       "6    Male  68.785081  183.927889\n",
       "7    Male  68.348516  167.971111\n",
       "8    Male  67.018950  175.929440\n",
       "9    Male  63.456494  156.399676\n",
       "10   Male  71.195382  186.604926\n",
       "11   Male  71.640805  213.741170\n",
       "12   Male  64.766329  167.127461\n",
       "13   Male  69.283070  189.446181\n",
       "14   Male  69.243732  186.434168\n",
       "15   Male  67.645620  172.186930\n",
       "16   Male  72.418317  196.028506\n",
       "17   Male  63.974326  172.883470\n",
       "18   Male  69.640060  185.983958\n",
       "19   Male  67.936005  182.426648"
      ]
     },
     "execution_count": 25,
     "metadata": {},
     "output_type": "execute_result"
    }
   ],
   "source": [
    "hw.head(20)"
   ]
  },
  {
   "cell_type": "code",
   "execution_count": 26,
   "id": "ab9a6d22",
   "metadata": {},
   "outputs": [
    {
     "data": {
      "text/html": [
       "<div>\n",
       "<style scoped>\n",
       "    .dataframe tbody tr th:only-of-type {\n",
       "        vertical-align: middle;\n",
       "    }\n",
       "\n",
       "    .dataframe tbody tr th {\n",
       "        vertical-align: top;\n",
       "    }\n",
       "\n",
       "    .dataframe thead th {\n",
       "        text-align: right;\n",
       "    }\n",
       "</style>\n",
       "<table border=\"1\" class=\"dataframe\">\n",
       "  <thead>\n",
       "    <tr style=\"text-align: right;\">\n",
       "      <th></th>\n",
       "      <th>Height</th>\n",
       "      <th>Weight</th>\n",
       "    </tr>\n",
       "  </thead>\n",
       "  <tbody>\n",
       "    <tr>\n",
       "      <th>count</th>\n",
       "      <td>10000.000000</td>\n",
       "      <td>10000.000000</td>\n",
       "    </tr>\n",
       "    <tr>\n",
       "      <th>mean</th>\n",
       "      <td>66.367560</td>\n",
       "      <td>161.440357</td>\n",
       "    </tr>\n",
       "    <tr>\n",
       "      <th>std</th>\n",
       "      <td>3.847528</td>\n",
       "      <td>32.108439</td>\n",
       "    </tr>\n",
       "    <tr>\n",
       "      <th>min</th>\n",
       "      <td>54.263133</td>\n",
       "      <td>64.700127</td>\n",
       "    </tr>\n",
       "    <tr>\n",
       "      <th>25%</th>\n",
       "      <td>63.505620</td>\n",
       "      <td>135.818051</td>\n",
       "    </tr>\n",
       "    <tr>\n",
       "      <th>50%</th>\n",
       "      <td>66.318070</td>\n",
       "      <td>161.212928</td>\n",
       "    </tr>\n",
       "    <tr>\n",
       "      <th>75%</th>\n",
       "      <td>69.174262</td>\n",
       "      <td>187.169525</td>\n",
       "    </tr>\n",
       "    <tr>\n",
       "      <th>max</th>\n",
       "      <td>78.998742</td>\n",
       "      <td>269.989698</td>\n",
       "    </tr>\n",
       "  </tbody>\n",
       "</table>\n",
       "</div>"
      ],
      "text/plain": [
       "             Height        Weight\n",
       "count  10000.000000  10000.000000\n",
       "mean      66.367560    161.440357\n",
       "std        3.847528     32.108439\n",
       "min       54.263133     64.700127\n",
       "25%       63.505620    135.818051\n",
       "50%       66.318070    161.212928\n",
       "75%       69.174262    187.169525\n",
       "max       78.998742    269.989698"
      ]
     },
     "execution_count": 26,
     "metadata": {},
     "output_type": "execute_result"
    }
   ],
   "source": [
    "hw.describe()"
   ]
  },
  {
   "cell_type": "code",
   "execution_count": 27,
   "id": "6fa026b3",
   "metadata": {},
   "outputs": [
    {
     "data": {
      "text/plain": [
       "Gender  Height     Weight    \n",
       "Female  54.263133  64.700127     1\n",
       "Male    67.830001  172.776569    1\n",
       "        67.809015  179.934465    1\n",
       "        67.810251  170.457826    1\n",
       "        67.814286  192.066392    1\n",
       "                                ..\n",
       "Female  64.854997  146.692798    1\n",
       "        64.855262  150.397118    1\n",
       "        64.859973  140.784838    1\n",
       "        64.860659  159.568226    1\n",
       "Male    78.998742  269.989698    1\n",
       "Length: 10000, dtype: int64"
      ]
     },
     "execution_count": 27,
     "metadata": {},
     "output_type": "execute_result"
    }
   ],
   "source": [
    "hw.value_counts()"
   ]
  },
  {
   "cell_type": "code",
   "execution_count": 28,
   "id": "b656210b",
   "metadata": {},
   "outputs": [
    {
     "data": {
      "text/plain": [
       "Index(['Gender', 'Height', 'Weight'], dtype='object')"
      ]
     },
     "execution_count": 28,
     "metadata": {},
     "output_type": "execute_result"
    }
   ],
   "source": [
    "hw.columns"
   ]
  },
  {
   "cell_type": "code",
   "execution_count": 29,
   "id": "7f5954e2",
   "metadata": {},
   "outputs": [
    {
     "data": {
      "text/plain": [
       "(10000, 3)"
      ]
     },
     "execution_count": 29,
     "metadata": {},
     "output_type": "execute_result"
    }
   ],
   "source": [
    "hw.shape"
   ]
  },
  {
   "cell_type": "code",
   "execution_count": 30,
   "id": "764c9535",
   "metadata": {},
   "outputs": [
    {
     "data": {
      "text/plain": [
       "<AxesSubplot:>"
      ]
     },
     "execution_count": 30,
     "metadata": {},
     "output_type": "execute_result"
    },
    {
     "data": {
      "image/png": "[encoded data removed]",
      "text/plain": [
       "<Figure size 432x288 with 1 Axes>"
      ]
     },
     "metadata": {
      "needs_background": "light"
     },
     "output_type": "display_data"
    }
   ],
   "source": [
    "hw.boxplot()"
   ]
  },
  {
   "cell_type": "code",
   "execution_count": 31,
   "id": "14aec82d",
   "metadata": {},
   "outputs": [
    {
     "data": {
      "text/plain": [
       "Gender    0\n",
       "Height    0\n",
       "Weight    0\n",
       "dtype: int64"
      ]
     },
     "execution_count": 31,
     "metadata": {},
     "output_type": "execute_result"
    }
   ],
   "source": [
    "hw.isnull().sum()                    #there is no null value here"
   ]
  },
  {
   "cell_type": "code",
   "execution_count": 32,
   "id": "cea05ab3",
   "metadata": {},
   "outputs": [
    {
     "data": {
      "text/plain": [
       "<AxesSubplot:xlabel='Gender', ylabel='Height'>"
      ]
     },
     "execution_count": 32,
     "metadata": {},
     "output_type": "execute_result"
    },
    {
     "data": {
      "image/png": "[encoded data removed]",
      "text/plain": [
       "<Figure size 432x288 with 1 Axes>"
      ]
     },
     "metadata": {
      "needs_background": "light"
     },
     "output_type": "display_data"
    }
   ],
   "source": [
    "sns.scatterplot(x=\"Gender\",y=\"Height\",data=hw)"
   ]
  },
  {
   "cell_type": "code",
   "execution_count": 33,
   "id": "29958c8b",
   "metadata": {},
   "outputs": [
    {
     "data": {
      "text/plain": [
       "<bound method DataFrame.info of       Gender     Height      Weight\n",
       "0       Male  73.847017  241.893563\n",
       "1       Male  68.781904  162.310473\n",
       "2       Male  74.110105  212.740856\n",
       "3       Male  71.730978  220.042470\n",
       "4       Male  69.881796  206.349801\n",
       "...      ...        ...         ...\n",
       "9995  Female  66.172652  136.777454\n",
       "9996  Female  67.067155  170.867906\n",
       "9997  Female  63.867992  128.475319\n",
       "9998  Female  69.034243  163.852461\n",
       "9999  Female  61.944246  113.649103\n",
       "\n",
       "[10000 rows x 3 columns]>"
      ]
     },
     "execution_count": 33,
     "metadata": {},
     "output_type": "execute_result"
    }
   ],
   "source": [
    "hw.info"
   ]
  },
  {
   "cell_type": "code",
   "execution_count": 34,
   "id": "e42f31c8",
   "metadata": {},
   "outputs": [
    {
     "data": {
      "text/plain": [
       "array(['Male', 'Female'], dtype=object)"
      ]
     },
     "execution_count": 34,
     "metadata": {},
     "output_type": "execute_result"
    }
   ],
   "source": [
    "hw.Gender.unique()"
   ]
  },
  {
   "cell_type": "code",
   "execution_count": 35,
   "id": "73d4a3bc",
   "metadata": {},
   "outputs": [
    {
     "data": {
      "text/plain": [
       "array([73.84701702, 68.78190405, 74.11010539, ..., 63.86799221,\n",
       "       69.03424313, 61.94424588])"
      ]
     },
     "execution_count": 35,
     "metadata": {},
     "output_type": "execute_result"
    }
   ],
   "source": [
    "hw.Height.unique()"
   ]
  },
  {
   "cell_type": "code",
   "execution_count": 36,
   "id": "561e371b",
   "metadata": {},
   "outputs": [
    {
     "data": {
      "text/plain": [
       "<AxesSubplot:xlabel='Gender', ylabel='Weight'>"
      ]
     },
     "execution_count": 36,
     "metadata": {},
     "output_type": "execute_result"
    },
    {
     "data": {
      "image/png": "[encoded data removed]",
      "text/plain": [
       "<Figure size 432x288 with 1 Axes>"
      ]
     },
     "metadata": {
      "needs_background": "light"
     },
     "output_type": "display_data"
    }
   ],
   "source": [
    "sns.scatterplot(x=\"Gender\",y=\"Weight\",data=hw)"
   ]
  },
  {
   "cell_type": "code",
   "execution_count": 37,
   "id": "d38a40d5",
   "metadata": {},
   "outputs": [
    {
     "data": {
      "text/plain": [
       "<BarContainer object of 10000 artists>"
      ]
     },
     "execution_count": 37,
     "metadata": {},
     "output_type": "execute_result"
    },
    {
     "data": {
      "image/png": "[encoded data removed]",
      "text/plain": [
       "<Figure size 432x288 with 1 Axes>"
      ]
     },
     "metadata": {
      "needs_background": "light"
     },
     "output_type": "display_data"
    }
   ],
   "source": [
    "plt.bar(hw.Gender,hw.Height) "
   ]
  },
  {
   "cell_type": "code",
   "execution_count": 39,
   "id": "980bc03d",
   "metadata": {},
   "outputs": [
    {
     "data": {
      "text/plain": [
       "<BarContainer object of 10000 artists>"
      ]
     },
     "execution_count": 39,
     "metadata": {},
     "output_type": "execute_result"
    },
    {
     "data": {
      "image/png": "[encoded data removed]",
      "text/plain": [
       "<Figure size 432x288 with 1 Axes>"
      ]
     },
     "metadata": {
      "needs_background": "light"
     },
     "output_type": "display_data"
    }
   ],
   "source": [
    "plt.bar(hw.Gender,hw.Weight)"
   ]
  },
  {
   "cell_type": "code",
   "execution_count": 40,
   "id": "20132cb7",
   "metadata": {},
   "outputs": [
    {
     "data": {
      "text/plain": [
       "(array([5000.,    0.,    0.,    0.,    0.,    0.,    0.,    0.,    0.,\n",
       "        5000.]),\n",
       " array([0. , 0.1, 0.2, 0.3, 0.4, 0.5, 0.6, 0.7, 0.8, 0.9, 1. ]),\n",
       " <BarContainer object of 10 artists>)"
      ]
     },
     "execution_count": 40,
     "metadata": {},
     "output_type": "execute_result"
    },
    {
     "data": {
      "image/png": "[encoded data removed]",
      "text/plain": [
       "<Figure size 432x288 with 1 Axes>"
      ]
     },
     "metadata": {
      "needs_background": "light"
     },
     "output_type": "display_data"
    }
   ],
   "source": [
    "plt.hist(hw.Gender)"
   ]
  },
  {
   "cell_type": "code",
   "execution_count": 41,
   "id": "a1698184",
   "metadata": {},
   "outputs": [
    {
     "data": {
      "text/plain": [
       "(array([  23.,  218.,  926., 1906., 2196., 2167., 1612.,  765.,  163.,\n",
       "          24.]),\n",
       " array([54.26313333, 56.73669423, 59.21025513, 61.68381604, 64.15737694,\n",
       "        66.63093784, 69.10449874, 71.57805964, 74.05162055, 76.52518145,\n",
       "        78.99874235]),\n",
       " <BarContainer object of 10 artists>)"
      ]
     },
     "execution_count": 41,
     "metadata": {},
     "output_type": "execute_result"
    },
    {
     "data": {
      "image/png": "[encoded data removed]",
      "text/plain": [
       "<Figure size 432x288 with 1 Axes>"
      ]
     },
     "metadata": {
      "needs_background": "light"
     },
     "output_type": "display_data"
    }
   ],
   "source": [
    "plt.hist(hw.Height)"
   ]
  },
  {
   "cell_type": "code",
   "execution_count": 42,
   "id": "52d783fa",
   "metadata": {},
   "outputs": [
    {
     "data": {
      "text/plain": [
       "(array([  15.,  278., 1241., 2175., 1849., 2016., 1747.,  598.,   71.,\n",
       "          10.]),\n",
       " array([ 64.70012671,  85.22908389, 105.75804107, 126.28699825,\n",
       "        146.81595543, 167.3449126 , 187.87386978, 208.40282696,\n",
       "        228.93178414, 249.46074132, 269.9896985 ]),\n",
       " <BarContainer object of 10 artists>)"
      ]
     },
     "execution_count": 42,
     "metadata": {},
     "output_type": "execute_result"
    },
    {
     "data": {
      "image/png": "[encoded data removed]",
      "text/plain": [
       "<Figure size 432x288 with 1 Axes>"
      ]
     },
     "metadata": {
      "needs_background": "light"
     },
     "output_type": "display_data"
    }
   ],
   "source": [
    "plt.hist(hw.Weight)"
   ]
  },
  {
   "cell_type": "code",
   "execution_count": 43,
   "id": "0a9d8c16",
   "metadata": {},
   "outputs": [
    {
     "data": {
      "text/plain": [
       "count     10000\n",
       "unique        2\n",
       "top        Male\n",
       "freq       5000\n",
       "Name: Gender, dtype: object"
      ]
     },
     "execution_count": 43,
     "metadata": {},
     "output_type": "execute_result"
    }
   ],
   "source": [
    "hw.Gender.describe()"
   ]
  },
  {
   "cell_type": "code",
   "execution_count": 44,
   "id": "b3728fcb",
   "metadata": {},
   "outputs": [
    {
     "data": {
      "text/plain": [
       "count    10000.000000\n",
       "mean        66.367560\n",
       "std          3.847528\n",
       "min         54.263133\n",
       "25%         63.505620\n",
       "50%         66.318070\n",
       "75%         69.174262\n",
       "max         78.998742\n",
       "Name: Height, dtype: float64"
      ]
     },
     "execution_count": 44,
     "metadata": {},
     "output_type": "execute_result"
    }
   ],
   "source": [
    "hw.Height.describe()"
   ]
  },
  {
   "cell_type": "code",
   "execution_count": 45,
   "id": "a66a8c0b",
   "metadata": {},
   "outputs": [
    {
     "data": {
      "text/plain": [
       "count    10000.000000\n",
       "mean       161.440357\n",
       "std         32.108439\n",
       "min         64.700127\n",
       "25%        135.818051\n",
       "50%        161.212928\n",
       "75%        187.169525\n",
       "max        269.989698\n",
       "Name: Weight, dtype: float64"
      ]
     },
     "execution_count": 45,
     "metadata": {},
     "output_type": "execute_result"
    }
   ],
   "source": [
    "hw.Weight.describe()"
   ]
  },
  {
   "cell_type": "code",
   "execution_count": 47,
   "id": "181899e7",
   "metadata": {},
   "outputs": [
    {
     "data": {
      "text/plain": [
       "{'whiskers': [<matplotlib.lines.Line2D at 0x23e84c90340>,\n",
       "  <matplotlib.lines.Line2D at 0x23e84c906d0>],\n",
       " 'caps': [<matplotlib.lines.Line2D at 0x23e84c90a60>,\n",
       "  <matplotlib.lines.Line2D at 0x23e84c90df0>],\n",
       " 'boxes': [<matplotlib.lines.Line2D at 0x23e84c82f70>],\n",
       " 'medians': [<matplotlib.lines.Line2D at 0x23e84c9e1c0>],\n",
       " 'fliers': [<matplotlib.lines.Line2D at 0x23e84c9e550>],\n",
       " 'means': []}"
      ]
     },
     "execution_count": 47,
     "metadata": {},
     "output_type": "execute_result"
    },
    {
     "data": {
      "image/png": "[encoded data removed]",
      "text/plain": [
       "<Figure size 432x288 with 1 Axes>"
      ]
     },
     "metadata": {
      "needs_background": "light"
     },
     "output_type": "display_data"
    }
   ],
   "source": [
    "plt.boxplot(hw.Height)"
   ]
  },
  {
   "cell_type": "code",
   "execution_count": 48,
   "id": "61afc743",
   "metadata": {},
   "outputs": [
    {
     "data": {
      "text/plain": [
       "{'whiskers': [<matplotlib.lines.Line2D at 0x23e84ceacd0>,\n",
       "  <matplotlib.lines.Line2D at 0x23e84cfa0a0>],\n",
       " 'caps': [<matplotlib.lines.Line2D at 0x23e84cfa430>,\n",
       "  <matplotlib.lines.Line2D at 0x23e84cfa7c0>],\n",
       " 'boxes': [<matplotlib.lines.Line2D at 0x23e84cea940>],\n",
       " 'medians': [<matplotlib.lines.Line2D at 0x23e84cfab50>],\n",
       " 'fliers': [<matplotlib.lines.Line2D at 0x23e84cfaee0>],\n",
       " 'means': []}"
      ]
     },
     "execution_count": 48,
     "metadata": {},
     "output_type": "execute_result"
    },
    {
     "data": {
      "image/png": "[encoded data removed]",
      "text/plain": [
       "<Figure size 432x288 with 1 Axes>"
      ]
     },
     "metadata": {
      "needs_background": "light"
     },
     "output_type": "display_data"
    }
   ],
   "source": [
    "plt.boxplot(hw.Weight)"
   ]
  },
  {
   "cell_type": "code",
   "execution_count": 49,
   "id": "ed318ddd",
   "metadata": {},
   "outputs": [
    {
     "data": {
      "text/plain": [
       "Male      5000\n",
       "Female    5000\n",
       "Name: Gender, dtype: int64"
      ]
     },
     "execution_count": 49,
     "metadata": {},
     "output_type": "execute_result"
    }
   ],
   "source": [
    "hw.Gender.value_counts()"
   ]
  },
  {
   "cell_type": "code",
   "execution_count": 50,
   "id": "f3df728c",
   "metadata": {},
   "outputs": [
    {
     "data": {
      "text/plain": [
       "73.847017    1\n",
       "56.975133    1\n",
       "66.235095    1\n",
       "65.108120    1\n",
       "65.769642    1\n",
       "            ..\n",
       "63.873409    1\n",
       "63.774863    1\n",
       "72.362112    1\n",
       "70.406172    1\n",
       "61.944246    1\n",
       "Name: Height, Length: 10000, dtype: int64"
      ]
     },
     "execution_count": 50,
     "metadata": {},
     "output_type": "execute_result"
    }
   ],
   "source": [
    "hw.Height.value_counts()"
   ]
  },
  {
   "cell_type": "code",
   "execution_count": 51,
   "id": "196ecd61",
   "metadata": {},
   "outputs": [
    {
     "data": {
      "text/plain": [
       "241.893563    1\n",
       "89.169850     1\n",
       "145.217177    1\n",
       "157.584439    1\n",
       "152.683156    1\n",
       "             ..\n",
       "152.554620    1\n",
       "160.627934    1\n",
       "207.394831    1\n",
       "200.842247    1\n",
       "113.649103    1\n",
       "Name: Weight, Length: 10000, dtype: int64"
      ]
     },
     "execution_count": 51,
     "metadata": {},
     "output_type": "execute_result"
    }
   ],
   "source": [
    "hw.Weight.value_counts()"
   ]
  },
  {
   "cell_type": "code",
   "execution_count": 58,
   "id": "e58e2feb",
   "metadata": {},
   "outputs": [
    {
     "data": {
      "text/plain": [
       "(0.9247562987378062, 0.0)"
      ]
     },
     "execution_count": 58,
     "metadata": {},
     "output_type": "execute_result"
    }
   ],
   "source": [
    "pearsonr(hw.Weight,hw.Height)"
   ]
  },
  {
   "cell_type": "code",
   "execution_count": 59,
   "id": "22420f4c",
   "metadata": {},
   "outputs": [
    {
     "data": {
      "text/plain": [
       "(0.9247562987378062, 0.0)"
      ]
     },
     "execution_count": 59,
     "metadata": {},
     "output_type": "execute_result"
    }
   ],
   "source": [
    "pearsonr(hw.Height,hw.Weight)"
   ]
  },
  {
   "cell_type": "code",
   "execution_count": null,
   "id": "58b22fca",
   "metadata": {},
   "outputs": [],
   "source": []
  }
 ],
 "metadata": {
  "kernelspec": {
   "display_name": "Python 3 (ipykernel)",
   "language": "python",
   "name": "python3"
  },
  "language_info": {
   "codemirror_mode": {
    "name": "ipython",
    "version": 3
   },
   "file_extension": ".py",
   "mimetype": "text/x-python",
   "name": "python",
   "nbconvert_exporter": "python",
   "pygments_lexer": "ipython3",
   "version": "3.9.7"
  }
 },
 "nbformat": 4,
 "nbformat_minor": 5
}
